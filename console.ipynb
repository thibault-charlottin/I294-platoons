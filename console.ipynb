{
 "cells": [
  {
   "cell_type": "markdown",
   "metadata": {},
   "source": [
    "# ADAS vs HDV impact on platoons"
   ]
  },
  {
   "cell_type": "markdown",
   "metadata": {},
   "source": [
    "This code is the reposit corrsponding to the ATEC presentation \"Analyse de l’impact de la présence de systèmes ADAS sur les véhicules en formation de peloton\"<br>\n"
   ]
  },
  {
   "cell_type": "code",
   "execution_count": 50,
   "metadata": {},
   "outputs": [],
   "source": [
    "#imports for platoon identification\n",
    "import src.read_data as read\n",
    "import src.test_CF as CF\n",
    "import src.test_platoon as platoons\n",
    "\n",
    "\n",
    "#imports for platoon analysis\n",
    "import src.analyze_platoons_life\n",
    "import src.compare_DTW_ACC_HDV as DTWimpact\n",
    "import src.compute_half_life as half_life\n",
    "import src.detect_string_instability_platoon as instability_detection\n",
    "\n",
    "import src.examine_string_instability  as instability_analysis\n",
    "\n",
    "\n",
    "#misc imports \n",
    "import multiprocessing\n",
    "import os\n",
    "import ast\n",
    "import pandas as pd\n",
    "import numpy as np"
   ]
  },
  {
   "cell_type": "markdown",
   "metadata": {},
   "source": [
    "## Preprocess data"
   ]
  },
  {
   "cell_type": "markdown",
   "metadata": {},
   "source": [
    "You can bypass this cell if you just want to conduct the analysis"
   ]
  },
  {
   "cell_type": "code",
   "execution_count": null,
   "metadata": {},
   "outputs": [],
   "source": [
    "print('declare path of the downloaded trajectory data')\n",
    "df_path = input()\n",
    "print('declare path of the trajectory data')\n",
    "path_out = input()\n",
    "read.clean_data(df_path, path_out)"
   ]
  },
  {
   "cell_type": "markdown",
   "metadata": {},
   "source": [
    "The path \"path_out\", is the one that you will use in the remaining of this notebook when asked to declare a path for trajecory data"
   ]
  },
  {
   "cell_type": "markdown",
   "metadata": {},
   "source": [
    "## Identifying the platoons"
   ]
  },
  {
   "cell_type": "markdown",
   "metadata": {},
   "source": [
    "Those two cells underneath allows for the detection of the platoons in the trajectory dataset. They are time consumming and can be bypassed "
   ]
  },
  {
   "cell_type": "code",
   "execution_count": 1,
   "metadata": {},
   "outputs": [],
   "source": [
    "#identify vehicles Car-following\n",
    "if __name__ == \"__main__\":\n",
    "    print('declare path of the trajectory data')\n",
    "    path = input()\n",
    "    window = 30\n",
    "    step = 5\n",
    "    tau_values = [0.6 + 0.1 * k for k in range(0, 14)]\n",
    "    \n",
    "    files = [(file, path, tau_values, window, step) for file in os.listdir(path)]\n",
    "\n",
    "    num_workers = multiprocessing.cpu_count() \n",
    "    with multiprocessing.Pool(processes=num_workers) as pool:\n",
    "        pool.map(CF.process_file, files)"
   ]
  },
  {
   "cell_type": "code",
   "execution_count": null,
   "metadata": {},
   "outputs": [],
   "source": [
    "#identify platoons\n",
    "if __name__ == \"__main__\":\n",
    "    print('define trajectories path')\n",
    "    path = input()\n",
    "    dtw_path = 'out/DTW/'\n",
    "    dtw_threshold = 1.5\n",
    "    files_info = [(file, dtw_path, path, dtw_threshold) for file in os.listdir(path)]\n",
    "    num_workers = multiprocessing.cpu_count()  \n",
    "    with multiprocessing.Pool(processes=num_workers) as pool:\n",
    "        pool.map(platoons.routine, files_info)\n",
    "\n",
    "for f in os.listdir('out/string_dtw/'):\n",
    "    df = pd.read_csv('out/string_dtw/'+f)\n",
    "    platoondf = platoons.study_platoon_evolution(df)\n",
    "    platoondf.to_csv('out/platoons/'+f)"
   ]
  },
  {
   "cell_type": "markdown",
   "metadata": {},
   "source": [
    "## preparing data for the analysis"
   ]
  },
  {
   "cell_type": "markdown",
   "metadata": {},
   "source": [
    "This cell is to be used if you used the two previous cells. If you are using this code just for the analysis of the platoons. You can bypass it"
   ]
  },
  {
   "cell_type": "code",
   "execution_count": null,
   "metadata": {},
   "outputs": [],
   "source": [
    "print('define trajectories path')\n",
    "trajspath = input()\n",
    "platoonspath = 'out/platoons/'\n",
    "ACC_list= []\n",
    "for f in os.listdir(platoonspath):\n",
    "    platoon = pd.read_csv(os.path.join(platoonspath, f))\n",
    "    platoon['platoon compo'] = platoon['platoon compo'].apply(ast.literal_eval)\n",
    "    trajs = pd.read_csv(os.path.join(trajspath, f))\n",
    "    ACC_set = set(trajs[trajs['ACC'] == 'Yes']['ID'].unique())\n",
    "    platoon['ACC'] = platoon['platoon compo'].apply(lambda k: [l in ACC_set for l in k])"
   ]
  },
  {
   "cell_type": "markdown",
   "metadata": {},
   "source": [
    "## Analysis of the impact of the presence of ADAS vehicles in a platoon"
   ]
  },
  {
   "cell_type": "markdown",
   "metadata": {},
   "source": [
    "### Bypass to this cell if you just want the data analysis"
   ]
  },
  {
   "cell_type": "code",
   "execution_count": 1,
   "metadata": {},
   "outputs": [],
   "source": [
    "#outputs paths\n",
    "datapath = 'data/by_run/corrected/'\n",
    "DTWpath = 'out/string_dtw/'\n",
    "platoonspath = 'out/platoons/'\n",
    "import src.compare_DTW_ACC_HDV as DTWimpact\n",
    "import src.compute_half_life as half_life"
   ]
  },
  {
   "cell_type": "code",
   "execution_count": null,
   "metadata": {},
   "outputs": [],
   "source": [
    "#load data for life expectancy analysis\n",
    "data_platoons = half_life.import_platoons(platoonspath)\n",
    "\n",
    "data_no_ACC = data_platoons[data_platoons['has_ACC'] == False]\n",
    "data_no_ACC = half_life.count_platoons_per_duration(data_no_ACC)\n",
    "data_no_ACC['log_remaining_platoons'] = np.log(data_no_ACC['number of platoons'])\n",
    "\n",
    "data_ACC = half_life.count_platoons_per_duration(data_platoons)\n",
    "data_ACC['log_remaining_platoons'] = np.log(data_ACC['number of platoons'])\n"
   ]
  },
  {
   "cell_type": "code",
   "execution_count": null,
   "metadata": {},
   "outputs": [],
   "source": [
    "model_no_ACC = half_life.perform_statistical_analysis(data_no_ACC, 'No ACC')\n",
    "model_ACC = half_life.perform_statistical_analysis(data_ACC, 'ACC')"
   ]
  },
  {
   "cell_type": "code",
   "execution_count": null,
   "metadata": {},
   "outputs": [],
   "source": [
    "intercept = model_ACC.params['const']\n",
    "slope_ACC = model_ACC.params['duration']\n",
    "conf_int_ACC = np.exp(model_ACC.conf_int().loc['duration'].values)\n",
    "\n",
    "half_life.plot_results(data_ACC, data_no_ACC, intercept, slope_ACC, conf_int_ACC)"
   ]
  },
  {
   "cell_type": "code",
   "execution_count": null,
   "metadata": {},
   "outputs": [],
   "source": [
    "print('half_life HDV platoons')\n",
    "half_life.compute_half_life(model_no_ACC)\n",
    "print('half_life all platoons')\n",
    "half_life.compute_half_life(model_ACC)"
   ]
  },
  {
   "cell_type": "code",
   "execution_count": null,
   "metadata": {},
   "outputs": [],
   "source": [
    "#analyze the impact of an ADAS on DTW values\n",
    "compile = DTWimpact.load_and_process_data(datapath, DTWpath)\n",
    "DTWimpact.filter_and_plot_data(compile)\n",
    "DTWimpact.perform_statistical_tests(compile)"
   ]
  },
  {
   "cell_type": "code",
   "execution_count": null,
   "metadata": {},
   "outputs": [],
   "source": [
    "#examien impact of ADAS on string instability\n",
    "instability_detection.routine(platoonspath,datapath)\n"
   ]
  },
  {
   "cell_type": "code",
   "execution_count": null,
   "metadata": {},
   "outputs": [],
   "source": [
    "df = instability_analysis.import_platoons(platoonspath)\n",
    "df['platoon compo'] = df['platoon compo'].apply(ast.literal_eval)\n",
    "df['length'] = df['platoon compo'].apply(len) + 1\n",
    "df = df[df['length']<6] \n",
    "\n",
    "instability_analysis.plot_stability(df)\n",
    "instability_analysis.examine_stats_instability(df)"
   ]
  }
 ],
 "metadata": {
  "kernelspec": {
   "display_name": "phD_data",
   "language": "python",
   "name": "python3"
  },
  "language_info": {
   "codemirror_mode": {
    "name": "ipython",
    "version": 3
   },
   "file_extension": ".py",
   "mimetype": "text/x-python",
   "name": "python",
   "nbconvert_exporter": "python",
   "pygments_lexer": "ipython3",
   "version": "3.12.2"
  }
 },
 "nbformat": 4,
 "nbformat_minor": 2
}
