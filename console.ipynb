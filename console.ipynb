{
 "cells": [
  {
   "cell_type": "code",
   "execution_count": 50,
   "metadata": {},
   "outputs": [],
   "source": [
    "import pandas as pd\n",
    "import numpy as np\n",
    "import seaborn as sns\n",
    "\n",
    "import src.read_data as read"
   ]
  },
  {
   "cell_type": "code",
   "execution_count": null,
   "metadata": {},
   "outputs": [],
   "source": [
    "def define_veh_string(dtw_data,trajs_data, max_dtw):\n",
    "    #allows for the cut of cut-in cenarios\n",
    "    leaders = np.array(dtw_data['leader'])\n",
    "    followers = np.array(dtw_data['id'])\n",
    "    dtw_value = np.array(dtw_data['dtw'])\n",
    "    string_list = []\n",
    "    string = []\n",
    "    for k in range(1,len(leaders)):\n",
    "        if leaders[k]==followers[k-1] and dtw_value[k] < max_dtw:\n",
    "            string.append(followers[k-1])\n",
    "        else : \n",
    "            string_list.append(string)\n",
    "            string = []\n",
    "    return string_list\n",
    "\n",
    "\n",
    "def define_CF(dtw_data,max_dtw):\n",
    "    dtw_data['isCF'] = dtw_data['DTW'].apply(lambda x: True if x < max_dtw else False)\n",
    "    return dtw_data\n",
    "\n",
    "def determine_CF(trajsdf,DTW_df,max_dtw):\n",
    "    DTW_df = define_CF(DTW_df,max_dtw)\n",
    "    out = pd.DataFrame(columns = trajsdf.columns)\n",
    "    out['CF'] = []\n",
    "    for k in pd.unique(trajsdf['ID']):\n",
    "        CF = []\n",
    "        data = trajsdf[trajsdf['ID']==k]\n",
    "        dtw_data = DTW_df[DTW_df['leader']==k]\n",
    "        data.reset_index(inplace=True,drop=True)\n",
    "        dtw_data.reset_index(inplace=True,drop=True)\n",
    "        try:\n",
    "            time_index = 0\n",
    "            time = dtw_data['time'][time_index+1]\n",
    "            for t in data['time']:\n",
    "                if t<time:\n",
    "                    CF.append(dtw_data['isCF'][time_index])\n",
    "                elif t>time and time_index<len(dtw_data['time']):\n",
    "                    if time_index + 1 < len(dtw_data['time']):\n",
    "                        time_index+=1\n",
    "                        if time_index + 1 < len(dtw_data['time']):\n",
    "                            time = dtw_data['time'][time_index+1]\n",
    "                    CF.append(dtw_data['isCF'][time_index])\n",
    "                elif t>time and time_index==len(dtw_data['time']):\n",
    "                    CF.append(dtw_data['isCF'][time_index])\n",
    "        except Exception:\n",
    "            pass\n",
    "        if len(CF)<len(data['time']):\n",
    "            CF+=[np.nan for k in range(len(data['time'])-len(CF))]\n",
    "        data['CF']=CF\n",
    "        out = pd.concat([out,data])\n",
    "    return out"
   ]
  },
  {
   "cell_type": "code",
   "execution_count": null,
   "metadata": {},
   "outputs": [],
   "source": [
    "DTW_1 = pd.read_csv('out/DTW/DTW_1.csv')\n",
    "DTW_1 = define_CF(DTW_1,1.5)\n",
    "DTW_1['time init'] = DTW_1['time']-5\n",
    "DTW_1['time final'] = DTW_1['time']+25\n",
    "        "
   ]
  },
  {
   "cell_type": "code",
   "execution_count": null,
   "metadata": {},
   "outputs": [],
   "source": [
    "TRAJS = pd.read_csv('data/by_run/corrected/1.csv')"
   ]
  },
  {
   "cell_type": "code",
   "execution_count": null,
   "metadata": {},
   "outputs": [],
   "source": [
    "DTW_1 = pd.merge(DTW_1, TRAJS[['leader', 'time', 'lane-kf','r']], on=['leader', 'time'], how='inner')\n",
    "DTW_1"
   ]
  },
  {
   "cell_type": "code",
   "execution_count": null,
   "metadata": {},
   "outputs": [],
   "source": []
  },
  {
   "cell_type": "code",
   "execution_count": null,
   "metadata": {},
   "outputs": [],
   "source": [
    "DTW_1_lane4 = DTW_1[DTW_1['lane-kf']==4]\n",
    "DTW_1_lane4.sort_values(by=['time','r'], ascending=[True, False],inplace = True)\n",
    "DTW_1_lane4.reset_index(inplace=True)\n",
    "display(DTW_1_lane4)\n",
    "string_list = [True if DTW_1_lane4['isCF'][0]==True else False]\n",
    "for k in range(1,len(DTW_1_lane4['id'])):\n",
    "    if DTW_1_lane4['leader'][k]==DTW_1_lane4['id'][k-1] and DTW_1_lane4['isCF'][k]==True:\n",
    "        string_list.append(True)\n",
    "    else:\n",
    "        string_list.append(False)\n",
    "DTW_1_lane4['string'] = string_list"
   ]
  },
  {
   "cell_type": "code",
   "execution_count": null,
   "metadata": {},
   "outputs": [],
   "source": [
    "DTW_1_lane4"
   ]
  },
  {
   "cell_type": "code",
   "execution_count": null,
   "metadata": {},
   "outputs": [],
   "source": []
  },
  {
   "cell_type": "code",
   "execution_count": null,
   "metadata": {},
   "outputs": [],
   "source": [
    "strings = [np.nan if DTW_1_lane4['string'][0]==False else 0]\n",
    "string_number = 0\n",
    "for k in range(1,len(DTW_1_lane4['string'])):\n",
    "    if DTW_1_lane4['string'][k]==True and DTW_1_lane4['string'][k-1]==False:\n",
    "        string_number+=1\n",
    "        strings.append(string_number) \n",
    "    elif DTW_1_lane4['string'][k]==True and DTW_1_lane4['string'][k-1]==True:\n",
    "        strings.append(string_number) \n",
    "    else : \n",
    "        strings.append(np.nan)\n",
    "DTW_1_lane4['string number'] = strings\n",
    "DTW_1_lane4"
   ]
  },
  {
   "cell_type": "code",
   "execution_count": null,
   "metadata": {},
   "outputs": [],
   "source": [
    "DTW_1_lane4[DTW_1_lane4['string number']==2]"
   ]
  },
  {
   "cell_type": "code",
   "execution_count": null,
   "metadata": {},
   "outputs": [],
   "source": [
    "import fastdtw as fastdtw"
   ]
  },
  {
   "cell_type": "code",
   "execution_count": null,
   "metadata": {},
   "outputs": [],
   "source": [
    "min(TRAJS[(TRAJS['ID']==9)]['time'])"
   ]
  },
  {
   "cell_type": "code",
   "execution_count": null,
   "metadata": {},
   "outputs": [],
   "source": [
    "xlead = TRAJS[(TRAJS['ID']==9)&(TRAJS['time']>5)&(TRAJS['time']<35)]\n",
    "xfollow = TRAJS[(TRAJS['ID']==8)&(TRAJS['time']>6.2)&(TRAJS['time']<36.2)]\n",
    "X1 = differencing(np.array(xlead['r']), smooth=0.1)\n",
    "X2 = differencing(np.array(xfollow['r']), smooth=0.1)\n",
    "distance, paths = dtw.warping_paths(X1, X2)"
   ]
  },
  {
   "cell_type": "code",
   "execution_count": null,
   "metadata": {},
   "outputs": [],
   "source": [
    "distance"
   ]
  },
  {
   "cell_type": "code",
   "execution_count": null,
   "metadata": {},
   "outputs": [],
   "source": [
    "DTW, time =  test_car_following_by_time(TRAJS,9,8,1.2,30,5)"
   ]
  },
  {
   "cell_type": "code",
   "execution_count": null,
   "metadata": {},
   "outputs": [],
   "source": [
    "sns.scatterplot(data = TRAJS[(TRAJS['ID']==9)&(TRAJS['time']>5)&(TRAJS['time']<35)], x = 'time',y = 'r', label = '9')\n",
    "sns.scatterplot(data = TRAJS[(TRAJS['ID']==8)&(TRAJS['time']>6.2)&(TRAJS['time']<36.2)], x = 'time',y = 'r')"
   ]
  },
  {
   "cell_type": "code",
   "execution_count": null,
   "metadata": {},
   "outputs": [],
   "source": [
    "DTW_1_lane4[DTW_1_lane4['string number']==6]\n"
   ]
  },
  {
   "cell_type": "code",
   "execution_count": null,
   "metadata": {},
   "outputs": [],
   "source": []
  },
  {
   "cell_type": "code",
   "execution_count": null,
   "metadata": {},
   "outputs": [],
   "source": [
    "from dtaidistance import dtw\n",
    "from dtaidistance.preprocessing import differencing\n",
    "def test_platoon(DTW_data,trajs,threshold, window, tau_list):\n",
    "    \n",
    "    time_list = []\n",
    "    out = pd.DataFrame()\n",
    "    DTW_data = define_CF(DTW_data,threshold)\n",
    "    DTW_data = pd.merge(DTW_data, trajs[['leader', 'time', 'lane-kf','r']], on=['leader', 'time'], how='inner')\n",
    "    for k in pd.unique(DTW_data['lane-kf']):\n",
    "        DTW_data_lane = DTW_data[DTW_data['lane-kf']==k]\n",
    "        DTW_data_lane.sort_values(by=['time','r'], ascending=[True, False],inplace = True)\n",
    "        DTW_data_lane.reset_index(inplace=True)\n",
    "        string_list = [True if DTW_data_lane['isCF'][0]==True else False]\n",
    "        for i in range(1,len(DTW_data_lane['id'])):\n",
    "            if DTW_data_lane['leader'][i]==DTW_data_lane['id'][i-1] and DTW_data_lane['isCF'][i]==True:\n",
    "                string_list.append(True)\n",
    "            else:\n",
    "                string_list.append(False)\n",
    "        DTW_data_lane['string'] = string_list\n",
    "        strings = [np.nan if DTW_1_lane4['string'][0]==False else 0]\n",
    "        string_number = 0\n",
    "        for k in range(1,len(DTW_1_lane4['string'])-1):\n",
    "            print(k)\n",
    "            if DTW_data_lane['string'][k]==True and DTW_data_lane['string'][k-1]==False:\n",
    "                string_number+=1\n",
    "                strings.append(string_number) \n",
    "            elif DTW_data_lane['string'][k]==True and DTW_data_lane['string'][k-1]==True:\n",
    "                strings.append(string_number) \n",
    "            else : \n",
    "                strings.append(np.nan)\n",
    "        DTW_data_lane['string number'] = strings\n",
    "        out = pd.concat([out,DTW_data_lane])\n",
    "    return out\n",
    "\n",
    "\n"
   ]
  },
  {
   "cell_type": "code",
   "execution_count": 57,
   "metadata": {},
   "outputs": [],
   "source": [
    "from dtaidistance import dtw\n",
    "from dtaidistance.preprocessing import differencing\n",
    "\n",
    "\n",
    "def define_strings(DTW_data,TRAJS,dtw_treshold):\n",
    "    DTW_data  =define_CF(DTW_data,dtw_treshold)\n",
    "    DTW_data = pd.merge(DTW_data, TRAJS[['leader', 'time', 'lane-kf','r']], on=['leader', 'time'], how='inner')\n",
    "    temp = pd.DataFrame()\n",
    "    for k in pd.unique(DTW_data['lane-kf']):\n",
    "            DTW_data_lane = DTW_data[DTW_data['lane-kf']==k]\n",
    "            DTW_data_lane.sort_values(by=['time','r'], ascending=[True, False],inplace = True)\n",
    "            DTW_data_lane.reset_index(inplace=True)\n",
    "            string_list = [True if DTW_data_lane['isCF'][0]==True else False]\n",
    "            for i in range(1,len(DTW_data_lane['id'])):\n",
    "                if DTW_data_lane['leader'][i]==DTW_data_lane['id'][i-1] and DTW_data_lane['isCF'][i]==True:\n",
    "                    string_list.append(True)\n",
    "                else:\n",
    "                    string_list.append(False)\n",
    "            DTW_data_lane['string'] = string_list\n",
    "            temp = pd.concat([temp,DTW_data_lane])\n",
    "\n",
    "    DTW_data = pd.merge(DTW_data, temp[['leader', 'time','string']], on=['leader', 'time'], how='inner')\n",
    "\n",
    "    DTW_data.sort_values(by=['lane-kf','time','r'], ascending=[True,True, False],inplace = True)\n",
    "    DTW_data.reset_index(inplace = True,drop = True)\n",
    "    \n",
    "    strings = [np.nan if DTW_data['string'][0]==False else 0]\n",
    "    string_number = 0\n",
    "    for k in range(1,len(DTW_data['string'])):\n",
    "                if DTW_data['string'][k]==True and DTW_data['string'][k-1]==False:\n",
    "                    string_number+=1\n",
    "                    strings.append(string_number) \n",
    "                elif DTW_data['string'][k]==True and DTW_data['string'][k-1]==True:\n",
    "                    strings.append(string_number) \n",
    "                else : \n",
    "                    strings.append(np.nan)\n",
    "    DTW_data['string number'] = strings\n",
    "    return DTW_data\n",
    "\n",
    "def compute_dtw_total_platoon(DTW_string_df,TRAJS,window, tau_list):\n",
    "    DTW_string_df = DTW_string_df.dropna(subset = 'string number')\n",
    "    DTW_list = []\n",
    "    leader_list = []\n",
    "    id_list = []\n",
    "    time = []\n",
    "    for k in pd.unique(DTW_string_df['string number']):\n",
    "        string_df = DTW_string_df[DTW_string_df['string number']==k]\n",
    "        tmin = min(string_df['time'])\n",
    "        tmax = tmin + window\n",
    "        ids_string = pd.unique(string_df['id'])\n",
    "        try : \n",
    "            Xlead = differencing(np.array(TRAJS[(TRAJS['time']>tmin)&(TRAJS['time']<tmax)&(TRAJS['ID']==string_df.reset_index()['leader'][0])]['r']), smooth=0.1)   \n",
    "            for k in range(len(ids_string)):\n",
    "                try :\n",
    "                    distance_list = []\n",
    "                    for tau in tau_list :\n",
    "                        Xfollow = differencing(np.array(TRAJS[(TRAJS['time']>tmin+tau*(k))&(TRAJS['time']<tmax+tau*(k))&(TRAJS['ID']==ids_string[k])]['r']), smooth=0.1)\n",
    "                        distance, paths = dtw.warping_paths(Xlead, Xfollow)\n",
    "                        distance_list.append(distance)\n",
    "                    DTW_list.append(np.array(distance))\n",
    "                    leader_list.append(string_df.reset_index()['leader'][0])\n",
    "                    id_list.append(ids_string[k])\n",
    "                    time.append(tmin)\n",
    "                except Exception: \n",
    "                    DTW_list.append(min(distance_list))\n",
    "                    leader_list.append(string_df.reset_index()['leader'][0])\n",
    "                    id_list.append(ids_string[k])\n",
    "                    time.append(tmin)\n",
    "        except Exception:\n",
    "            for k in range (len(ids_string)):\n",
    "                DTW_list.append(np.nan)\n",
    "                leader_list.append(string_df.reset_index()['leader'][0])\n",
    "                id_list.append(ids_string[k])\n",
    "                time.append(tmin)\n",
    "    string_evaluation  = pd.DataFrame({\"id\" : id_list, 'leader_string' : leader_list,'DTW string' : DTW_list, 'time':time})\n",
    "    string_evaluation['string_number'] = DTW_string_df['string number']\n",
    "    return string_evaluation"
   ]
  },
  {
   "cell_type": "code",
   "execution_count": 58,
   "metadata": {},
   "outputs": [
    {
     "ename": "NameError",
     "evalue": "name 'define_CF' is not defined",
     "output_type": "error",
     "traceback": [
      "\u001b[1;31m---------------------------------------------------------------------------\u001b[0m",
      "\u001b[1;31mNameError\u001b[0m                                 Traceback (most recent call last)",
      "Cell \u001b[1;32mIn[58], line 8\u001b[0m\n\u001b[0;32m      6\u001b[0m DTW \u001b[38;5;241m=\u001b[39m pd\u001b[38;5;241m.\u001b[39mread_csv(path_dtw \u001b[38;5;241m+\u001b[39m \u001b[38;5;28mstr\u001b[39m(dtw_list[k]))\n\u001b[0;32m      7\u001b[0m TRAJS \u001b[38;5;241m=\u001b[39m pd\u001b[38;5;241m.\u001b[39mread_csv(path_trajs \u001b[38;5;241m+\u001b[39m \u001b[38;5;28mstr\u001b[39m(trajs_list[k]))\n\u001b[1;32m----> 8\u001b[0m DTW \u001b[38;5;241m=\u001b[39m \u001b[43mdefine_strings\u001b[49m\u001b[43m(\u001b[49m\u001b[43mDTW\u001b[49m\u001b[43m,\u001b[49m\u001b[43mTRAJS\u001b[49m\u001b[43m,\u001b[49m\u001b[38;5;241;43m1.5\u001b[39;49m\u001b[43m)\u001b[49m\n\u001b[0;32m      9\u001b[0m string_dtw \u001b[38;5;241m=\u001b[39m compute_dtw_total_platoon(DTW,TRAJS,\u001b[38;5;241m30\u001b[39m, \u001b[38;5;241m1.2\u001b[39m)\n\u001b[0;32m     10\u001b[0m string_dtw\u001b[38;5;241m.\u001b[39mto_csv(\u001b[38;5;124m'\u001b[39m\u001b[38;5;124mout/string_dtw/\u001b[39m\u001b[38;5;124m'\u001b[39m\u001b[38;5;241m+\u001b[39m\u001b[38;5;28mstr\u001b[39m(trajs_list[k]))\n",
      "Cell \u001b[1;32mIn[57], line 6\u001b[0m, in \u001b[0;36mdefine_strings\u001b[1;34m(DTW_data, TRAJS, dtw_treshold)\u001b[0m\n\u001b[0;32m      5\u001b[0m \u001b[38;5;28;01mdef\u001b[39;00m \u001b[38;5;21mdefine_strings\u001b[39m(DTW_data,TRAJS,dtw_treshold):\n\u001b[1;32m----> 6\u001b[0m     DTW_data  \u001b[38;5;241m=\u001b[39m\u001b[43mdefine_CF\u001b[49m(DTW_data,dtw_treshold)\n\u001b[0;32m      7\u001b[0m     DTW_data \u001b[38;5;241m=\u001b[39m pd\u001b[38;5;241m.\u001b[39mmerge(DTW_data, TRAJS[[\u001b[38;5;124m'\u001b[39m\u001b[38;5;124mleader\u001b[39m\u001b[38;5;124m'\u001b[39m, \u001b[38;5;124m'\u001b[39m\u001b[38;5;124mtime\u001b[39m\u001b[38;5;124m'\u001b[39m, \u001b[38;5;124m'\u001b[39m\u001b[38;5;124mlane-kf\u001b[39m\u001b[38;5;124m'\u001b[39m,\u001b[38;5;124m'\u001b[39m\u001b[38;5;124mr\u001b[39m\u001b[38;5;124m'\u001b[39m]], on\u001b[38;5;241m=\u001b[39m[\u001b[38;5;124m'\u001b[39m\u001b[38;5;124mleader\u001b[39m\u001b[38;5;124m'\u001b[39m, \u001b[38;5;124m'\u001b[39m\u001b[38;5;124mtime\u001b[39m\u001b[38;5;124m'\u001b[39m], how\u001b[38;5;241m=\u001b[39m\u001b[38;5;124m'\u001b[39m\u001b[38;5;124minner\u001b[39m\u001b[38;5;124m'\u001b[39m)\n\u001b[0;32m      8\u001b[0m     temp \u001b[38;5;241m=\u001b[39m pd\u001b[38;5;241m.\u001b[39mDataFrame()\n",
      "\u001b[1;31mNameError\u001b[0m: name 'define_CF' is not defined"
     ]
    }
   ],
   "source": [
    "path_trajs = 'data/by_run/corrected/'\n",
    "path_dtw = 'out/DTW/'\n",
    "trajs_list = ['1.csv', '11.csv', '18.csv', '19.csv', '20.csv', '21.csv', '3.csv', '7.csv', '8.csv', '9.csv']\n",
    "dtw_list = ['DTW_1.csv', 'DTW_11.csv', 'DTW_18.csv', 'DTW_19.csv', 'DTW_20.csv', 'DTW_21.csv', 'DTW_3.csv', 'DTW_7.csv', 'DTW_8.csv', 'DTW_9.csv']\n",
    "for k in range(len(trajs_list)):\n",
    "    DTW = pd.read_csv(path_dtw + str(dtw_list[k]))\n",
    "    TRAJS = pd.read_csv(path_trajs + str(trajs_list[k]))\n",
    "    DTW = define_strings(DTW,TRAJS,1.5)\n",
    "    string_dtw = compute_dtw_total_platoon(DTW,TRAJS,30, 1.2)\n",
    "    string_dtw.to_csv('out/string_dtw/'+str(trajs_list[k]))\n"
   ]
  },
  {
   "cell_type": "code",
   "execution_count": null,
   "metadata": {},
   "outputs": [],
   "source": [
    "DTW_1_strings = pd.read_csv('out/string_dtw/1.csv')\n",
    "trajs = pd.read_csv( 'data/by_run/corrected/1.csv')\n",
    "ACC = pd.unique(trajs[trajs['ACC']=='Yes']['ID'])\n",
    "out = pd.DataFrame()\n",
    "for k in pd.unique(DTW_1_strings['leader_string']):\n",
    "    data = DTW_1_strings[DTW_1_strings['leader_string']==k]\n",
    "    data['string'] = [k for i in range(len(data['id']))]\n",
    "    out = pd.concat([out,data])\n",
    "out['ACC'] = out['id'].isin(ACC)"
   ]
  },
  {
   "cell_type": "code",
   "execution_count": null,
   "metadata": {},
   "outputs": [],
   "source": [
    "trajs_list = ['1.csv', '11.csv', '18.csv', '19.csv', '20.csv', '21.csv', '3.csv', '7.csv', '8.csv', '9.csv']\n",
    "for k in range(len(trajs_list)):\n",
    "    DTW_1_strings = pd.read_csv('out/string_dtw/'+trajs_list[k])\n",
    "    trajs = pd.read_csv( 'data/by_run/corrected/'+trajs_list[k])\n",
    "    ACC = pd.unique(trajs[trajs['ACC']=='Yes']['ID'])\n",
    "    out = pd.DataFrame()\n",
    "    for s in pd.unique(DTW_1_strings['leader_string']):\n",
    "        data = DTW_1_strings[DTW_1_strings['leader_string']==s]\n",
    "        data['string'] = [k for i in range(len(data['id']))]\n",
    "        out = pd.concat([out,data])\n",
    "    out['ACC'] = out['id'].isin(ACC)\n",
    "    results = study_platoon_evolution(out)\n",
    "    results.to_csv('out/platoons/'+trajs_list[k])"
   ]
  },
  {
   "cell_type": "code",
   "execution_count": null,
   "metadata": {},
   "outputs": [],
   "source": [
    "trajs_8 = pd.read_csv('data/by_run/corrected/8.csv')\n",
    "trajs8ACC = pd.unique(trajs_8[trajs_8['ACC']=='Yes']['ID'])"
   ]
  },
  {
   "cell_type": "code",
   "execution_count": null,
   "metadata": {},
   "outputs": [],
   "source": [
    "trajs8ACC"
   ]
  },
  {
   "cell_type": "code",
   "execution_count": null,
   "metadata": {},
   "outputs": [],
   "source": [
    "platoon_8 = pd.read_csv('out/platoons/8.csv')\n",
    "platoon_8"
   ]
  },
  {
   "cell_type": "code",
   "execution_count": null,
   "metadata": {},
   "outputs": [],
   "source": [
    "out[out['leader_string']==105]"
   ]
  },
  {
   "cell_type": "code",
   "execution_count": null,
   "metadata": {},
   "outputs": [],
   "source": [
    "out[out['ACC']]"
   ]
  },
  {
   "cell_type": "code",
   "execution_count": null,
   "metadata": {},
   "outputs": [],
   "source": [
    "max(trajs[trajs['ACC']=='Yes']['time'])"
   ]
  },
  {
   "cell_type": "code",
   "execution_count": null,
   "metadata": {},
   "outputs": [],
   "source": [
    "def study_platoon_evolution(out):\n",
    "    results = pd.DataFrame()\n",
    "    for k in pd.unique(out['leader_string']):\n",
    "        test = out[out['leader_string']==k]\n",
    "        begin = min(test['time'])\n",
    "        init = test[test['time'] == pd.unique(test['time'])[0]]\n",
    "        if (init['DTW string'] ).all():\n",
    "            duration = 30\n",
    "            compo = pd.unique(init['id'])\n",
    "        else :\n",
    "            compo = []\n",
    "        for t in pd.unique(test['time']):\n",
    "            init = test[test['time'] == t]\n",
    "            if len(compo)>0:\n",
    "                if (init['DTW string'].values ).all()< 1.5 and len(pd.unique(init['id']))==len(compo):\n",
    "                    duration += 5\n",
    "                elif (init['DTW string'] ).all()< 1.5 and len(pd.unique(init['id']))<len(compo): \n",
    "                    results = pd.concat([results, pd.DataFrame({'leader' : k, 'compo': [compo], 'begin' : begin, 'duration': duration, 'reason' : 'extraction'})])\n",
    "                    compo = pd.unique(init['id'])\n",
    "                    begin = t\n",
    "                    duration = 30\n",
    "                elif  (init['DTW string'] < 1.5).all() and len(pd.unique(init['id']))>len(compo): \n",
    "                    results = pd.concat([results, pd.DataFrame({'leader' : k, 'compo': [compo], 'begin' : begin, 'duration': duration, 'reason' : 'insertion'})])\n",
    "                    compo = pd.unique(init['id'])\n",
    "                    begin = t\n",
    "                    duration = 30\n",
    "                else :\n",
    "                    results = pd.concat([results, pd.DataFrame({'leader' : k, 'compo': [compo], 'begin' : begin, 'duration': duration, 'reason' : 'disengagement'})])\n",
    "                    compo = []\n",
    "            else : \n",
    "                if (init['DTW string'].values ).all()< 1.5:\n",
    "                    compo = pd.unique(init['id'])\n",
    "                    duration = 30\n",
    "                    begin = t\n",
    "    return results"
   ]
  },
  {
   "cell_type": "code",
   "execution_count": null,
   "metadata": {},
   "outputs": [],
   "source": [
    "results = study_platoon_evolution(out)\n",
    "results"
   ]
  },
  {
   "cell_type": "code",
   "execution_count": null,
   "metadata": {},
   "outputs": [],
   "source": [
    "results = pd.DataFrame()\n",
    "for k in pd.unique(out['leader_string']):\n",
    "    test = out[out['leader_string']==k]\n",
    "    test = test[test['DTW string']<1.5].reset_index()\n",
    "    begin = min(test['datetime'])\n",
    "    increase = np.nan\n",
    "    try : \n",
    "        compo = pd.unique(test[test['time'] == pd.unique(test['time'])[0]]['id'])\n",
    "        duration = 30\n",
    "        lenght = len(compo)\n",
    "        for t in pd.unique(test['time']):\n",
    "            trial = test[test['time']==t]\n",
    "            if np.array_equal(compo,pd.unique(trial['id'])):\n",
    "                duration+=5\n",
    "            elif np.array_equal(compo,pd.unique(trial['id']))==False and len(compo)<len(pd.unique(trial['id'])):\n",
    "                duration+=5\n",
    "                increase = duration\n",
    "                lenght+=1\n",
    "            else : \n",
    "                break\n",
    "        if lenght>1:\n",
    "            lenght +=1\n",
    "            print(compo)\n",
    "            results = pd.concat([results,pd.DataFrame({'leader':[k for i in range(len(compo))],'followers':list(compo),'duration':duration,'lenght':lenght,\n",
    "                                                       'increase time':increase})])\n",
    "    except Exception:\n",
    "        pass\n",
    "results"
   ]
  },
  {
   "cell_type": "code",
   "execution_count": null,
   "metadata": {},
   "outputs": [],
   "source": []
  },
  {
   "cell_type": "code",
   "execution_count": null,
   "metadata": {},
   "outputs": [],
   "source": [
    "out[out['ACC']==True]"
   ]
  },
  {
   "cell_type": "code",
   "execution_count": null,
   "metadata": {},
   "outputs": [],
   "source": [
    "DTW_1_strings = define_strings(DTW_1,TRAJS,1.5)"
   ]
  },
  {
   "cell_type": "code",
   "execution_count": null,
   "metadata": {},
   "outputs": [],
   "source": [
    "\n",
    "window = 30\n",
    "tau = 1.2\n"
   ]
  },
  {
   "cell_type": "code",
   "execution_count": null,
   "metadata": {},
   "outputs": [],
   "source": [
    "len(leader_list)"
   ]
  },
  {
   "cell_type": "code",
   "execution_count": null,
   "metadata": {},
   "outputs": [],
   "source": [
    "string_evaluation  = pd.DataFrame({\"id\" : id_list, 'leader_string' : leader_list,'DTW string' : DTW_list, 'time':time})\n",
    "string_evaluation['string_number'] = DTW_1_strings['string number']\n",
    "string_evaluation"
   ]
  },
  {
   "cell_type": "code",
   "execution_count": null,
   "metadata": {},
   "outputs": [],
   "source": [
    "DTW_1_strings"
   ]
  },
  {
   "cell_type": "code",
   "execution_count": null,
   "metadata": {},
   "outputs": [],
   "source": [
    "DTW_string_values = pd.DataFrame({\"id\" : id_list, 'leader_string' : leader_list,'DTW string' : DTW_list, 'time':time}).merge(DTW_1_strings,on = ['id','time'], how = 'inner')\n",
    "DTW_string_values"
   ]
  },
  {
   "cell_type": "code",
   "execution_count": null,
   "metadata": {},
   "outputs": [],
   "source": [
    "DTW_1_strings['string number']"
   ]
  },
  {
   "cell_type": "code",
   "execution_count": null,
   "metadata": {},
   "outputs": [],
   "source": [
    "DTW_1_strings.reset_index(inplace = True)"
   ]
  },
  {
   "cell_type": "code",
   "execution_count": null,
   "metadata": {},
   "outputs": [],
   "source": [
    "DTW_1_strings['DTW string'] = DTW_list"
   ]
  },
  {
   "cell_type": "code",
   "execution_count": null,
   "metadata": {},
   "outputs": [],
   "source": [
    "DTW_1"
   ]
  },
  {
   "cell_type": "code",
   "execution_count": null,
   "metadata": {},
   "outputs": [],
   "source": [
    "DTW_1 = pd.read_csv('out/DTW/DTW_1.csv')\n",
    "DTW_1_string_eval = test_platoon(DTW_1,TRAJS,1.5, 30, tau = 1.2, fixed_tau =True)\n"
   ]
  },
  {
   "cell_type": "code",
   "execution_count": null,
   "metadata": {},
   "outputs": [],
   "source": [
    "\n",
    "\n",
    "        for s in pd.unique(DTW_data_lane['string number']):\n",
    "            DTW_list = []\n",
    "            DTW_string = DTW_data_lane[DTW_data_lane['string number']==s].reset_index(drop=True)\n",
    "            try : \n",
    "                tmin = min(DTW_string['time'])\n",
    "                tmax = tmin + window\n",
    "                Xlead = differencing(np.array(TRAJS[(TRAJS['time']>tmin)&(TRAJS['time']<tmax)&(TRAJS['ID']==DTW_string.reset_index()['leader'][0])]['r']), smooth=0.1)\n",
    "                ids_string = pd.unique(DTW_string['id'])\n",
    "                for k in range(len(ids_string)):\n",
    "                    Xfollow = differencing(np.array(TRAJS[(TRAJS['time']>tmin+tau*(k))&(TRAJS['time']<tmax+tau*(k))&(TRAJS['ID']==ids_string[k])]['r']), smooth=0.1)\n",
    "                    distance, paths = dtw.warping_paths(Xlead, Xfollow)\n",
    "                    DTW_list.append(distance)\n",
    "            except Exception:\n",
    "                    distance = np.nan\n",
    "                    DTW_list.append(distance)\n",
    "            DTW_string['string DTW'] = DTW_list\n",
    "            out = pd.concat([out, DTW_string])\n",
    "\n",
    "    return out"
   ]
  },
  {
   "cell_type": "code",
   "execution_count": null,
   "metadata": {},
   "outputs": [],
   "source": [
    "test = DTW_1_lane4[DTW_1_lane4['string number']==6].reset_index()\n",
    "test"
   ]
  },
  {
   "cell_type": "code",
   "execution_count": null,
   "metadata": {},
   "outputs": [],
   "source": [
    "window = 30\n",
    "tau = 1.2"
   ]
  },
  {
   "cell_type": "code",
   "execution_count": null,
   "metadata": {},
   "outputs": [],
   "source": [
    "tmin = test['time'][0]\n",
    "tmax = tmin+window\n",
    "DTW_list = []\n",
    "Xlead = differencing(np.array(TRAJS[(TRAJS['time']>tmin)&(TRAJS['time']<tmax)&(TRAJS['ID']==test['leader'][0])]['r']), smooth=0.1)\n",
    "followers = pd.unique(test['id'])\n",
    "for k in range(len(followers)):\n",
    "    Xfollow = np.array(TRAJS[(TRAJS['time']>tmin+tau*(k+1))&(TRAJS['time']<tmax+tau*(k+1))&(TRAJS['ID']==followers[k])]['r'])\n",
    "    Xfollow = differencing(Xfollow, smooth=0.1)\n",
    "    d, p = distance, paths = dtw.warping_paths(Xlead, Xfollow)\n",
    "    DTW_list.append(d)\n",
    "DTW_list"
   ]
  },
  {
   "cell_type": "code",
   "execution_count": null,
   "metadata": {},
   "outputs": [],
   "source": [
    "Xlead = differencing(np.array(TRAJS[(TRAJS['time']>10)&(TRAJS['time']<40)&(TRAJS['ID']==DTW_1_lane4[DTW_1_lane4['string number']==2].reset_index()['leader'][0])]['r']), smooth=0.1)\n",
    "Xfollow = differencing(np.array(TRAJS[(TRAJS['time']>11.2)&(TRAJS['time']<41.2)&(TRAJS['ID']==DTW_1_lane4[DTW_1_lane4['string number']==2].reset_index()['id'][0])]['r']), smooth=0.1)\n",
    "Xfollow2 = differencing(np.array(TRAJS[(TRAJS['time']>12.4)&(TRAJS['time']<42.4)&(TRAJS['ID']==DTW_1_lane4[DTW_1_lane4['string number']==2].reset_index()['id'][1])]['r']), smooth=0.1)\n",
    "Xfollow3 = differencing(np.array(TRAJS[(TRAJS['time']>12.4)&(TRAJS['time']<42.4)&(TRAJS['ID']==DTW_1_lane4[DTW_1_lane4['string number']==2].reset_index()['id'][2])]['r']), smooth=0.1)\n"
   ]
  },
  {
   "cell_type": "code",
   "execution_count": null,
   "metadata": {},
   "outputs": [],
   "source": [
    "distance, paths = dtw.warping_paths(Xlead, Xfollow)\n",
    "distance2, paths2 = dtw.warping_paths(Xlead, Xfollow2)\n",
    "distance3, paths3 = dtw.warping_paths(Xlead, Xfollow3)\n",
    "distance4, paths4 = dtw.warping_paths(Xlead, Xfollow4)\n"
   ]
  },
  {
   "cell_type": "code",
   "execution_count": null,
   "metadata": {},
   "outputs": [],
   "source": [
    "print(distance,distance2,distance3,distance4)"
   ]
  },
  {
   "cell_type": "code",
   "execution_count": null,
   "metadata": {},
   "outputs": [],
   "source": [
    "DTW_1_lane4"
   ]
  },
  {
   "cell_type": "code",
   "execution_count": null,
   "metadata": {},
   "outputs": [],
   "source": [
    "from dtaidistance import dtw\n",
    "from dtaidistance.preprocessing import differencing\n",
    "import matplotlib.pyplot as plt\n",
    "#assuming a constant translation of 1.2s is valid\n",
    "tau = 1.2\n",
    "DTW_list =  []\n",
    "plt.plot(TRAJS[(TRAJS['time']>5)&(TRAJS['time']<35)&(TRAJS['ID']==DTW_1_lane4[DTW_1_lane4['string number']==2].reset_index()['id'][0])]['time'],TRAJS[(TRAJS['time']>5)&(TRAJS['time']<35)&(TRAJS['ID']==DTW_1_lane4[DTW_1_lane4['string number']==2].reset_index()['id'][0])]['r'])\n",
    "Xlead = differencing(np.array(TRAJS[(TRAJS['time']>5)&(TRAJS['time']<35)&(TRAJS['ID']==DTW_1_lane4[DTW_1_lane4['string number']==2].reset_index()['id'][0])]['r']), smooth=0.1)\n",
    "ids_string = pd.unique(DTW_1_lane4[DTW_1_lane4['string number']==2]['id'])\n",
    "for k in range(1,len(ids_string)):\n",
    "    Xfollow = differencing(np.array(TRAJS[(TRAJS['time']>5+tau*(k))&(TRAJS['time']<35+tau*(k))&(TRAJS['ID']==ids_string[k])]['r']), smooth=0.1)\n",
    "    distance, paths = dtw.warping_paths(Xlead, Xfollow)\n",
    "    DTW_list.append(distance)\n",
    "    plt.plot(TRAJS[(TRAJS['time']>5+tau*(k))&(TRAJS['time']<35+tau*(k))&(TRAJS['ID']==ids_string[k])]['time'],TRAJS[(TRAJS['time']>5+tau*(k+1))&(TRAJS['time']<35+tau*(k+1))&(TRAJS['ID']==ids_string[k])]['r'])"
   ]
  },
  {
   "cell_type": "code",
   "execution_count": null,
   "metadata": {},
   "outputs": [],
   "source": [
    "DTW_list"
   ]
  },
  {
   "cell_type": "code",
   "execution_count": null,
   "metadata": {},
   "outputs": [],
   "source": [
    "DTW_list"
   ]
  },
  {
   "cell_type": "code",
   "execution_count": null,
   "metadata": {},
   "outputs": [],
   "source": [
    "DTW_1.sort_values(by = ['time','id','leader'])"
   ]
  },
  {
   "cell_type": "code",
   "execution_count": null,
   "metadata": {},
   "outputs": [],
   "source": [
    "for k in DTW_1"
   ]
  },
  {
   "cell_type": "code",
   "execution_count": null,
   "metadata": {},
   "outputs": [],
   "source": [
    "def stest_string_over_time(data,threshold):\n",
    "    for k in pd.unique(trajsdf['ID']):\n",
    "        "
   ]
  },
  {
   "cell_type": "code",
   "execution_count": null,
   "metadata": {},
   "outputs": [],
   "source": [
    "DTW_1['time init'] = DTW_1['time']-5\n",
    "DTW_1['time final'] = DTW_1['time']+25\n",
    "DTW_1[DTW_1['id']==12]\n",
    "DTW_1[DTW_1['leader']==12]"
   ]
  }
 ],
 "metadata": {
  "kernelspec": {
   "display_name": "Python 3",
   "language": "python",
   "name": "python3"
  },
  "language_info": {
   "codemirror_mode": {
    "name": "ipython",
    "version": 3
   },
   "file_extension": ".py",
   "mimetype": "text/x-python",
   "name": "python",
   "nbconvert_exporter": "python",
   "pygments_lexer": "ipython3",
   "version": "3.10.13"
  }
 },
 "nbformat": 4,
 "nbformat_minor": 2
}
